{
 "cells": [
  {
   "cell_type": "markdown",
   "metadata": {},
   "source": [
    "# <font color=\"#306998\">Python para Leigos</font>"
   ]
  },
  {
   "cell_type": "markdown",
   "metadata": {},
   "source": [
    "Bem-vindo ao *Python para Leigos*, um guia prático e direto para quem está começando a programar. Este notebook foi criado para ajudar iniciantes a entenderem os conceitos básicos da linguagem Python, com exemplos claros e explicações objetivas.\n",
    "\n",
    "⚠️ **Aviso Importante:**  \n",
    "Este material **não substitui a documentação oficial do Python**. Ele serve apenas como um guia complementar para auxiliar no aprendizado inicial, ajudar a entender conceitos básicos e facilitar a resolução de erros comuns.  \n",
    "\n",
    "O notebook foi elaborado com foco em aprendizado prático e exemplos simples. No entanto:  \n",
    "- Não aborda tópicos avançados da linguagem.  \n",
    "- Pode não cobrir todos os detalhes de cada funcionalidade.  \n",
    "- Não garante que as soluções apresentadas sejam as mais otimizadas ou ideais para ambientes de produção.  \n",
    "\n",
    "Para aprofundar seu conhecimento, consulte sempre a [documentação oficial do Python](https://docs.python.org/pt-br/3/).\n",
    "\n",
    "## **O que você vai encontrar?**\n",
    "Neste notebook, você aprenderá os seguintes conceitos:  \n",
    "\n",
    "1. **Variáveis**  \n",
    "2. **Funções, Tipagem e Entrada de Dados**\n",
    "3. **Estruturas Condicionais (if, else, elif)**\n",
    "    - Operadores and e or  \n",
    "4. **- Laços de Repetição (for, while)**\n",
    "5. **Trabalhando com Listas**  \n",
    "    - Criando listas  \n",
    "    - Adicionando itens  \n",
    "    - Removendo itens  \n",
    "    - Acessando elementos  \n",
    "    - Ordenando e filtrando listas  \n",
    "6. **Tuplas**  \n",
    "    - O que são tuplas?  \n",
    "    - Por que usá-las?  \n",
    "    - Como acessar elementos  \n",
    "7. **Dicionários: Estrutura Chave-Valor**  \n",
    "    - Estrutura  \n",
    "    - Adicionando e modificando valores  \n",
    "    - Acessando valores  \n",
    "    - Removendo itens  \n",
    "8. **Bibliotecas e Módulos**  \n",
    "    - O que são bibliotecas?  \n",
    "    - Como utilizá-las?  \n",
    "    - Principais bibliotecas em Python  \n",
    "\n",
    "\n",
    "\n",
    "## **Como usar este notebook?**\n",
    "- Navegue pelos tópicos usando os links acima.  \n",
    "- Execute as células de código para ver os exemplos funcionando.  \n",
    "- Modifique os exemplos para testar seu aprendizado.\n",
    "\n",
    "*Vamos começar?*\n"
   ]
  },
  {
   "cell_type": "markdown",
   "metadata": {},
   "source": [
    " ##  <span style=\"color:#306998\">***1. Variáveis***</span>\n",
    "Assim como varias outras linguagens, python tambem tem tipos de variaiveis. No exemplo a seguir temos string, int, float e boorlean"
   ]
  },
  {
   "cell_type": "code",
   "execution_count": null,
   "metadata": {},
   "outputs": [],
   "source": [
    "nome = \"Eduardo\" #string\n",
    "idade = 20 #int\n",
    "valor_carteira = 200.00 #float\n",
    "vivo = False #bool"
   ]
  },
  {
   "cell_type": "markdown",
   "metadata": {},
   "source": [
    "Em python, as variavies são dinamicas, ou seja, toda vez que você reatribuir um valor pra uma variavel, você pode mudar o tipo.\n",
    "\n",
    "Exemplo:"
   ]
  },
  {
   "cell_type": "code",
   "execution_count": null,
   "metadata": {},
   "outputs": [],
   "source": [
    "nome = \"Gustavo\"\n",
    "print(nome)\n",
    "nome = 20.756\n",
    "print(nome)"
   ]
  },
  {
   "cell_type": "markdown",
   "metadata": {},
   "source": [
    "##  <span style=\"color:#306998\">***2. Funções, Tipagem e Entrada de Dados***</span>\n",
    "\n",
    "As funções em Python são blocos de código reutilizáveis que realizam uma tarefa específica. Elas ajudam a organizar o código, facilitando a manutenção e a leitura. Para definir uma função, usamos a palavra-chave def, seguida do nome da função e dos parâmetros entre parênteses.\n",
    "\n",
    "#### <span style=\"color:#306998\">**Definindo e chamando funções:**</span>\n",
    "Uma função pode ou não retornar um valor. Se não houver um return, o resultado será exibido diretamente ou usado dentro da função."
   ]
  },
  {
   "cell_type": "code",
   "execution_count": null,
   "metadata": {},
   "outputs": [],
   "source": [
    "def soma(a,b):\n",
    "    resultado = a + b\n",
    "    return resultado\n",
    "\n",
    "a= 7\n",
    "b = 5\n",
    "total = soma(a,b) #da a total o valor de resultado\n",
    "print(total)"
   ]
  },
  {
   "cell_type": "markdown",
   "metadata": {},
   "source": [
    "Nesse exemplo, a função somar recebe dois parâmetros (a e b), calcula a soma e retorna o valor resultante. O valor é armazenado na variável total e exibido com print.\n",
    "\n",
    "#### <span style=\"color:#306998\">**Tratando Erros de Tipagem:**</span>\n",
    "\n",
    "Mesmo que python seja uma linguagem dinamica, ela não permite operações entre tipos incompatíveis, como somar um número com uma string. Isso gera um erro de TypeError.\n",
    "\n",
    "Exemplo:"
   ]
  },
  {
   "cell_type": "code",
   "execution_count": null,
   "metadata": {},
   "outputs": [],
   "source": [
    "def soma(a,b):\n",
    "    resultado = a + b\n",
    "    return resultado\n",
    "\n",
    "a= 7\n",
    "b = \"Proz\"\n",
    "total = soma(a,b)\n",
    "print(total) #dara um erro pelos tipos diferentes"
   ]
  },
  {
   "cell_type": "markdown",
   "metadata": {},
   "source": [
    "#### <span style=\"color:#306998\">**Concatenando Strings:**</span>\n",
    "\n",
    "Ja nesta situação dara certo, pois o python quando se depara com a soma de duas strings entente que é uma contatenação. Lembre-se que sommente soma funciona com strings."
   ]
  },
  {
   "cell_type": "code",
   "execution_count": null,
   "metadata": {},
   "outputs": [],
   "source": [
    "def soma(a,b):\n",
    "    resultado = a + b\n",
    "    return resultado\n",
    "\n",
    "c = \"Eduardo \"\n",
    "d = \"Ama a Proz\"\n",
    "total = soma(c,d)\n",
    "print(total)"
   ]
  },
  {
   "cell_type": "markdown",
   "metadata": {},
   "source": [
    "#### <span style=\"color:#306998\">**Estrada de Dados:**</span>\n",
    "\n",
    "Para interagir com o usuário, usamos a função input(). Ela sempre retorna uma string, mesmo que o valor digitado seja numérico. Se for necessário realizar cálculos, converta o valor para inteiro (int()) ou ponto flutuante (float())."
   ]
  },
  {
   "cell_type": "code",
   "execution_count": null,
   "metadata": {},
   "outputs": [],
   "source": [
    "nome = input(\"Qual é o seu nome? \")\n",
    "idade = int(input(\"Quantos anos você tem? \")) #Int é colocado para que o inpput seja um numero inteiro\n",
    "print(f\"Olá, {nome}! Você tem {idade} anos.\")"
   ]
  },
  {
   "cell_type": "code",
   "execution_count": null,
   "metadata": {},
   "outputs": [],
   "source": [
    "# Codigo contendo um erro\n",
    "\n",
    "a = input(\"Digite o valor de a:\")\n",
    "b = input(\"Digite o valor de b:\")\n",
    "\n",
    "print(a + b) #O resultado será a contatenação dos valores digitados em vez da soma"
   ]
  },
  {
   "cell_type": "markdown",
   "metadata": {},
   "source": [
    "##   <span style=\"color:#306998\">***3. Estruturas Condicionais(if,elif,else)***</span>\n",
    "\n",
    "Estruturas condicionais são recursos de programação que permitem que um programa execute diferentes comandos de acordo com uma ou mais condições. Imagine que você trabalha em uma autoescola. Sabemos que, para alguém tirar a carteira de motorista, é necessário ter 18 anos ou mais. Essa é uma condição. Podemos representar isso com a lógica da vida real assim:\n",
    "\n",
    "```portugol \n",
    "Se idade maior ou igual 18\n",
    "    aprovado\n",
    "Se não\n",
    "    reprovado\n",
    "```\n",
    "Em programação seguimos essa mesma logica. Vamos seguir este mesmo exemplo, mas em Python"
   ]
  },
  {
   "cell_type": "code",
   "execution_count": null,
   "metadata": {},
   "outputs": [],
   "source": [
    "idade = input(\"Informe a sua idade: \")\n",
    "if idade >= 18:\n",
    "    print(\"Aprovado\")\n",
    "else: \n",
    "    print(\"Reprovado\")"
   ]
  },
  {
   "cell_type": "markdown",
   "metadata": {},
   "source": [
    "O Python utiliza a palavra-chave if para verificar uma condição. Se a condição for verdadeira (True), o bloco de código logo abaixo do if será executado. Caso contrário (False), o bloco do else será executado.\n",
    "\n",
    "#### <span style=\"color:#306998\">**Por que é assim em Python?**</span>\n",
    "\n",
    "Talvez você se pergunte onde estão as chaves, que são usadas em muitas linguagens como Java ou C. Diferentemente dessas linguagens, o Python usa indentação, ou seja, espaços no início de cada linha de código, para definir a hierarquia das instruções. As linhas com print() estão indentadas com 4 espaços (ou um Tab, dependendo do editor) para indicar que fazem parte dos blocos if e else. Se a indentação estiver incorreta, o Python exibirá um erro do tipo IndentationError.\n",
    "\n",
    "Essa abordagem torna o código mais limpo e fácil de entender, seguindo a filosofia do Python de ser uma linguagem legível e intuitiva.\n",
    "\n",
    "#### <span style=\"color:#306998\">**O que é elif?**</span>\n",
    "\n",
    "Às vezes, na vida, nos deparamos com perguntas que têm mais de duas opções de escolha. Por exemplo: Qual é o melhor tipo de sorvete existente?\n",
    "\n",
    "Talvez você diga que é flocos (e você está absolutamente correto 🏆).\n",
    "Ou talvez prefira pistache.\n",
    "Quem sabe até iogurte com amarena (???).\n",
    "\n",
    "Não importa qual seja realmente o melhor – o que importa é que existem múltiplas alternativas.\n",
    "\n",
    "Da mesma forma, o Python também oferece essa possibilidade nas estruturas condicionais, usando o comando elif (abreviação de else if).\n",
    "Vamos ver como isso funciona com um exemplo:"
   ]
  },
  {
   "cell_type": "code",
   "execution_count": null,
   "metadata": {},
   "outputs": [],
   "source": [
    "sabor = input(\"Qual o seu sabor de sorvete favorito? \").lower()\n",
    "\n",
    "if sabor == \"flocos\":\n",
    "    print(\"Definitamente o melhor\")\n",
    "elif sabor == \"pistache\":\n",
    "    print(\"modinha!\")\n",
    "elif sabor == \"iogurte com amarena\":\n",
    "    print(\"???\")\n",
    "else:\n",
    "    print(\"É um sabor!\")"
   ]
  },
  {
   "cell_type": "markdown",
   "metadata": {},
   "source": [
    "#### <span style=\"color:#306998\">**Entendendo a lógica:**</span>\n",
    "\n",
    "- if → Verifica a primeira condição. Se for verdadeira, executa o bloco de código.\n",
    "- elif → Verifica condições adicionais, caso a primeira seja falsa. Você pode usar quantos elif quiser.\n",
    "- else → Define o que fazer se nenhuma das condições anteriores for atendida.\n",
    "\n",
    "\n",
    "Mas uando estamos trabalhando com condições em programação, às vezes precisamos verificar mais de uma condição ao mesmo tempo. Para isso, podemos usar operadores lógicos, como and e or, que nos ajudam a combinar várias condições e tornar as verificações mais complexas. Vamos ver como cada um funciona:\n",
    "\n",
    "#### <span style=\"color:#306998\">**Operador and**</span>\n",
    "O operador and retorna verdadeiro (True) apenas se todas as condições forem verdadeiras. Caso contrário, o resultado será falso (False). Vamos usar um exemplo simples para entender isso.\n",
    "\n",
    "Pense no que você precisa fazer para poder dirigir. Basta ter apenas 18 anos ou mais? Não, você também precisa ter uma CNH (Carteira Nacional de Habilitação). Se não tiver e tentar sair sem a carteira, provavelmente você enfrentará graves consequências – então, por favor, não faça isso! \n",
    "\n",
    "Agora, vamos ver como isso funciona em Python:"
   ]
  },
  {
   "cell_type": "code",
   "execution_count": null,
   "metadata": {},
   "outputs": [],
   "source": [
    "idade = 20\n",
    "tem_cnh = False\n",
    "\n",
    "if idade >= 18 and tem_cnh:\n",
    "    print(\"Você pode dirigir!\")\n",
    "else:\n",
    "    print(\"Você não pode dirigir.\")"
   ]
  },
  {
   "cell_type": "markdown",
   "metadata": {},
   "source": [
    "Explicação:\n",
    "\n",
    "- Nesse exemplo, a pessoa só pode dirigir se ambas as condições forem verdadeiras: a idade precisa ser 18 ou mais e a pessoa precisa ter CNH.\n",
    "- Se qualquer uma das condições for falsa, o código retorna \"Você não pode dirigir.\"\n",
    "\n",
    "#### <span style=\"color:#306998\">**Operador or:**</span>\n",
    "O operador or retorna verdadeiro (True) se pelo menos uma das condições for verdadeira. Se todas as condições forem falsas, o resultado será falso (False). Vamos ilustrar isso com um exemplo sobre médias escolares.\n",
    "\n",
    "Imagine que você está na escola e tem duas matérias: Matemática e História. Para passar de ano, você precisa que pelo menos uma dessas matérias tenha a média final maior ou igual a 7.0. Ou seja, se você tirar 7.0 ou mais em Matemática ou História, você passa. Mas, se você tirar menos de 7.0 nas duas, você ficará de recuperação.\n",
    "\n",
    "Vamos ver como fica isso em Python"
   ]
  },
  {
   "cell_type": "code",
   "execution_count": null,
   "metadata": {},
   "outputs": [],
   "source": [
    "media_matematica = 6.5\n",
    "media_historia = 8.0\n",
    "\n",
    "if media_matematica >= 7.0 or media_historia >= 7.0:\n",
    "    print(\"Você passou de ano!\")\n",
    "else:\n",
    "    print(\"Você ficou de recuperação.\")"
   ]
  },
  {
   "cell_type": "markdown",
   "metadata": {},
   "source": [
    "Explicação:\n",
    "\n",
    "Neste exemplo, para a pessoa passar de ano pelo menos uma das condições deve dar verdadeira, no caso do exemplo, somente a segunda - media_historia dara verdadeira, logo, a pessoa teria passado de ano. \n",
    "Caso uma das duas condições fossem falsas, a pessoa teria repetido de ano.\n",
    "\n",
    "## <span style=\"color:#306998\">***4. Laços de Repetição(for, while)***</span>\n",
    "\n",
    "Laços de repetição são estruturas fundamentais em programação que permitem executar um bloco de código múltiplas vezes de acordo com uma condição ou até que uma condição seja satisfeita. Eles são muito úteis quando precisamos realizar uma tarefa repetitiva, como processar dados de uma lista ou realizar uma ação um número específico de vezes.\n",
    "\n",
    "Existem alguns tipos de laços de repetição, mas vamos explorar somente os 2 mais usados em Python: for e while\n",
    "#### <span style=\"color:#306998\">**1. Laço For:**</span>\n",
    "O laço for é utilizado quando sabemos quantas vezes o código precisa ser repetido ou quando queremos iterar sobre uma sequência (como uma lista, tupla, dicionário ou string). A cada iteração, o laço percorre um item da sequência e executa o bloco de código correspondente.\n",
    "\n",
    "Exemplo:"
   ]
  },
  {
   "cell_type": "code",
   "execution_count": null,
   "metadata": {},
   "outputs": [],
   "source": [
    "for i in range(5):\n",
    "    print(i)"
   ]
  },
  {
   "cell_type": "markdown",
   "metadata": {},
   "source": [
    "Neste exemplo, o laço for vai imprimir os números de 0 a 4, uma vez para cada número gerado pela função range(5).\n",
    "#### <span style=\"color:#306998\">**Laço while:**</span>\n",
    "\n",
    "O laço while é utilizado quando não sabemos o número exato de repetições, mas temos uma condição que, enquanto verdadeira, mantém o código sendo repetido. A condição é verificada antes de cada iteração, e o laço é interrompido quando a condição se torna falsa.\n",
    "\n",
    "Exemplo:"
   ]
  },
  {
   "cell_type": "code",
   "execution_count": null,
   "metadata": {},
   "outputs": [],
   "source": [
    "contador = 0\n",
    "while contador < 5:\n",
    "    print(contador)\n",
    "    contador += 1"
   ]
  },
  {
   "cell_type": "markdown",
   "metadata": {},
   "source": [
    "Aqui, o laço while vai continuar até que o valor de contador seja igual a 5. A cada iteração, o valor do contador é incrementado.\n",
    "#### <span style=\"color:#306998\">**Quando usar cada um:**</span>\n",
    "\n",
    "    - Use for quando precisar iterar sobre uma sequência (como uma lista ou intervalo de números) ou quando souber o número de repetições.\n",
    "    - Use while quando precisar repetir uma ação até que uma condição seja satisfeita, sem saber de antemão quantas iterações serão necessárias."
   ]
  },
  {
   "cell_type": "markdown",
   "metadata": {},
   "source": [
    "## <span style=\"color:#306998\"> ***5. Trabalhando com Listas***</span>\n",
    "\n",
    "Neste tutorial, vamos aprender a realizar operações básicas com listas, ou coleções em Python. As listas são estruturas de dados versáteis que permitem armazenar múltiplos itens em uma única variável\n",
    "\n",
    "#### <span style=\"color:#306998\">**1. Criando Listas:**</span>\n",
    "\n",
    "Primeiramente, vamos criar nossas listas. Uma lista pode ser formada por qualquer tipo de dado, como strings, números, ou até mesmo outras listas. Para criar uma lista, basta usar colchetes [] e separar os itens por vírgulas."
   ]
  },
  {
   "cell_type": "code",
   "execution_count": 23,
   "metadata": {},
   "outputs": [
    {
     "name": "stdout",
     "output_type": "stream",
     "text": [
      "['Eduardo', 'Gustavo', 'Pedro', 'Cajuru']\n",
      "['Python', 'Java', 'C++']\n"
     ]
    }
   ],
   "source": [
    "lista_programadores = [\"Eduardo\", \"Gustavo\", \"Pedro\",\"Cajuru\"]\n",
    "lista_linguagens = [\"Python\", \"Java\", \"C++\"]\n",
    "\n",
    "print(lista_programadores)\n",
    "print(lista_linguagens)"
   ]
  },
  {
   "cell_type": "markdown",
   "metadata": {},
   "source": [
    "#### <span style=\"color:#306998\">**2. Adcionando um Item ao Final da Lista:**</span>\n",
    "\n",
    "Para adicionar novos itens ao final de uma lista, utilizamos o método .append(). Ele adiciona um item ao fim da lista, aumentando seu tamanho."
   ]
  },
  {
   "cell_type": "code",
   "execution_count": null,
   "metadata": {},
   "outputs": [],
   "source": [
    "# Adicionando um programador e uma linguagem ao final da lista\n",
    "lista_programadores.append(\"Mateus\")\n",
    "lista_linguagens.append(\"JavaScript\")\n",
    "\n",
    "print(lista_programadores)\n",
    "print(lista_linguagens)\n"
   ]
  },
  {
   "cell_type": "markdown",
   "metadata": {},
   "source": [
    "#### <span style=\"color:#306998\">**3. Adicionando um Item em uma Posição Específica:**</span>\n",
    "\n",
    "Se quisermos inserir um item em uma posição específica dentro da lista, usamos o método .insert(). Este método recebe dois parâmetros: a posição (índice) onde o item deve ser inserido e o valor do item."
   ]
  },
  {
   "cell_type": "code",
   "execution_count": 34,
   "metadata": {},
   "outputs": [
    {
     "name": "stdout",
     "output_type": "stream",
     "text": [
      "['Eduardo', 'Gustavo', 'Julia', 'Julia', 'Julia', 'Julia', 'Julia', 'Pedro', 'Dudu']\n",
      "['Python', 'Java', 'C++', 'Golang', 'Golang', 'Golang', 'Golang', 'Golang']\n"
     ]
    }
   ],
   "source": [
    "# Inserindo um programador e uma linguagem em uma posição específica\n",
    "lista_programadores.insert(2, \"Julia\")\n",
    "lista_linguagens.insert(3, \"Golang\")\n",
    "\n",
    "print(lista_programadores)\n",
    "print(lista_linguagens)\n"
   ]
  },
  {
   "cell_type": "markdown",
   "metadata": {},
   "source": [
    "#### <span style=\"color:#306998\">**4. Removendo um Item por Índice:**</span>\n",
    "O método .pop() remove e retorna o item da lista na posição especificada. Se não fornecermos um índice, o .pop() remove o último item da lista."
   ]
  },
  {
   "cell_type": "code",
   "execution_count": 25,
   "metadata": {},
   "outputs": [
    {
     "name": "stdout",
     "output_type": "stream",
     "text": [
      "['Eduardo', 'Gustavo', 'Pedro', 'Dudu']\n",
      "['Python', 'Java', 'C++']\n"
     ]
    }
   ],
   "source": [
    "# Adicionando mais elementos\n",
    "lista_linguagens.append(\"C#\")\n",
    "lista_programadores.append(\"Dudu\")\n",
    "\n",
    "# Removendo um item por índice\n",
    "lista_programadores.pop(3)  # Remove a posição 3 da lista\n",
    "lista_linguagens.pop()  # Remove o último item da lista\n",
    "\n",
    "print(lista_programadores)\n",
    "print(lista_linguagens)\n"
   ]
  },
  {
   "cell_type": "markdown",
   "metadata": {},
   "source": [
    "#### <span style=\"color:#306998\">**5. Removendo um Item Específico:**</span>\n",
    "Se quisermos remover um item específico da lista, podemos usar o método .remove(). Este método remove a primeira ocorrência do valor informado."
   ]
  },
  {
   "cell_type": "code",
   "execution_count": 39,
   "metadata": {},
   "outputs": [
    {
     "name": "stdout",
     "output_type": "stream",
     "text": [
      "['Eduardo', 'Gustavo', 'Pedro', 'Dudu']\n",
      "['Python', 'Java', 'C++']\n"
     ]
    }
   ],
   "source": [
    "# Removendo um programador e uma linguagem\n",
    "lista_programadores.remove(\"Julia\")\n",
    "lista_linguagens.remove(\"Golang\")\n",
    "\n",
    "print(lista_programadores)\n",
    "print(lista_linguagens)"
   ]
  },
  {
   "cell_type": "markdown",
   "metadata": {},
   "source": [
    "#### <span style=\"color:#306998\">**6. Acessando ELementos das Listas:**</span>\n",
    "\n",
    "Agora que aprendemos a manipular as listas, vamos ver como acessar elementos específicos dentro delas. Para isso, usamos os índices. O índice de uma lista começa em 0, ou seja, o primeiro item da lista tem o índice 0, o segundo item tem o índice 1, e assim por diante.\n"
   ]
  },
  {
   "cell_type": "code",
   "execution_count": null,
   "metadata": {},
   "outputs": [],
   "source": [
    "# Acessando um item específico nas listas\n",
    "print(lista_programadores[4])  # Acessa o quinto programador\n",
    "print(lista_linguagens[2])  # Acessa a terceira linguagem"
   ]
  },
  {
   "cell_type": "markdown",
   "metadata": {},
   "source": [
    "#### <span style=\"color:#306998\">**7. Filtrando Elementos da Lista:**</span>\n",
    "\n",
    "A função filter em Python é implementada nativamente e tem como objetivo facilitar o processo de filtragem de elementos em uma lista. Ela recebe dois parâmetros: a função de filtragem e a lista a ser filtrada. A função de filtragem deve retornar True ou False para cada elemento da lista, sendo que apenas os elementos que retornam True serão incluídos no resultado final.\n",
    "\n",
    "Para utilizar a função filter em Python, primeiro é necessário definir a função de filtragem. Essa função deve receber um parâmetro, que representa cada elemento da lista a ser filtrada, e retornar True ou False com base na condição desejada. Em seguida, basta passar a função de filtragem e a lista para a função filter."
   ]
  },
  {
   "cell_type": "code",
   "execution_count": null,
   "metadata": {},
   "outputs": [],
   "source": [
    "def filtro_numeros_pares(numero):\n",
    "    return numero % 2 == 1\n",
    "\n",
    "lista = [1, 2, 3, 4, 5, 6, 7, 8, 9, 10]\n",
    "resultado = list(filter(filtro_numeros_pares, lista))\n",
    "\n",
    "print(resultado)  "
   ]
  },
  {
   "cell_type": "markdown",
   "metadata": {},
   "source": [
    "Por que usar o list antes de filter? Sem o list(), você não vê os valores diretamente, apenas a representação do objeto filter. "
   ]
  },
  {
   "cell_type": "markdown",
   "metadata": {},
   "source": [
    "#### <span style=\"color:#306998\">**8. Ordenando Listas em Python:**</span>\n",
    "\n",
    "A ordenação de uma lista permite que os elementos sejam dispostos de forma lógica e coerente, facilitando a busca, a comparação e a manipulação dos dados. Existm alguns jeitos de fazer isso, vamos ver alguns.\n",
    "\n",
    "#####  <span style=\"color:#27a319\">**- Método sort():**</span>\n",
    "O método `sort()` em Python é usado para ordenar os elementos de uma lista no local, ou seja, ele modifica a própria lista em que é chamado, sem criar uma nova lista. Este método é útil quando você deseja ordenar uma lista e não precisa manter a versão original.\n",
    "\n",
    "A sintaxe básica do método `sort()` é:\n",
    "\n",
    "```python\n",
    "lista.sort(key=None, reverse=False)\n",
    "```\n",
    "\n",
    "onde:\n",
    "- ***key***: Uma função opcional que serve como critério de ordenação. Por exemplo, key=str.lower pode ser usado para ordenar strings sem considerar maiúsculas e minúsculas.\n",
    "- ***reverse***: Um valor booleano opcional. Se True, a lista será ordenada em ordem decrescente.\n"
   ]
  },
  {
   "cell_type": "code",
   "execution_count": null,
   "metadata": {},
   "outputs": [],
   "source": [
    "lista = [4, 2, 1, 3, 7, 17, 16]\n",
    "lista.sort()\n",
    "print(lista)\n",
    "\n",
    "lista.sort(reverse=True)\n",
    "print(lista)"
   ]
  },
  {
   "cell_type": "markdown",
   "metadata": {},
   "source": [
    "##### <span style=\"color:#27a319\">**- Função sorted():**</span>\n",
    "\n",
    "A função `sorted()` em Python é usada para ordenar elementos de uma coleção, como listas, tuplas ou qualquer outro iterável. Ela retorna uma nova lista com os elementos ordenados, sem modificar a coleção original.\n",
    "\n",
    "Como diferencial, podemos escolher se queremos que a lista sera ordenada do jeito convencional, do menor ao mmaior, mas tambem do maior ao menor, alem de tambem haver interação com strings. \n",
    "\n",
    "A sintaxe basica da função é: \n",
    "\n",
    "```python\n",
    "sorted(iterable, key=None, reverse=False)\n",
    "```\n",
    "\n",
    "onde:\n",
    "- ***iterable*** : A coleção de elementos que você deseja ordenar.\n",
    "- ***key***: Uma função opcional que serve como critério de ordenação. Por exemplo, key=str.lower pode ser usado para ordenar strings sem considerar maiúsculas e minúsculas.\n",
    "- ***reverse***: Um valor booleano opcional. Se True, a lista será ordenada em ordem decrescente.\n"
   ]
  },
  {
   "cell_type": "code",
   "execution_count": null,
   "metadata": {},
   "outputs": [],
   "source": [
    "lista = [4, 2, 1, 3, 7, 17, 16, 5, 8, 10]\n",
    "ordenados =sorted(lista)\n",
    "print(ordenados)\n",
    "\n",
    "ordenados_desc = sorted(lista, reverse=True)\n",
    "print(ordenados_desc)\n"
   ]
  },
  {
   "cell_type": "markdown",
   "metadata": {},
   "source": [
    "##### Diferença entre sort() e sorted():\n",
    "\n",
    "Enquanto a função sorted() retorna uma nova lista ordenada, o método sort() modifica a lista original diretamente. Use sorted() quando você precisar de uma nova lista ordenada sem alterar a original, e use sort() quando você quiser ordenar a lista original diretamente.\n",
    "\n",
    "Em resumo, sorted() é uma função mais flexível que pode ser usada com qualquer iterável e retorna uma nova lista, enquanto sort() é um método específico de listas que ordena a lista no local. "
   ]
  },
  {
   "cell_type": "markdown",
   "metadata": {},
   "source": [
    "#### <span style=\"color:#27a319\">**- Argumento key:**</span>\n",
    "Tanto o método `sort()` quanto a função `sorted()` possuem um argumento opcional chamado `key`, que permite definir uma função de ordenação personalizada. Essa função é aplicada a cada elemento da lista e retorna um valor que será utilizado para realizar a ordenação.\n",
    "\n",
    "O argumento `key` é especialmente útil quando você precisa ordenar uma lista de objetos complexos, como dicionários ou objetos personalizados, com base em um ou mais atributos específicos.\n",
    "\n",
    "##### Exemplo 1: Ordenando uma lista de strings ignorando maiúsculas e minúsculas\n"
   ]
  },
  {
   "cell_type": "code",
   "execution_count": null,
   "metadata": {},
   "outputs": [],
   "source": [
    "nomes = [\"Ana\", \"bruno\", \"Carlos\", \"ana\"]\n",
    "nomes_ordenados = sorted(nomes, key=str.lower)\n",
    "print(nomes_ordenados)"
   ]
  },
  {
   "cell_type": "markdown",
   "metadata": {},
   "source": [
    "Neste exemplo, a função str.lower é usada como a função de ordenação. Ela converte cada string para minúsculas antes de realizar a comparação, garantindo que a ordenação seja feita de forma case-insensitive.\n",
    "\n",
    "##### Exemplo 2: Ordenando uma lista de dicionários por um valor específico"
   ]
  },
  {
   "cell_type": "code",
   "execution_count": null,
   "metadata": {},
   "outputs": [],
   "source": [
    "pessoas = [\n",
    "    {\"nome\": \"Ana\", \"idade\": 23},\n",
    "    {\"nome\": \"Bruno\", \"idade\": 35},\n",
    "    {\"nome\": \"Gabriela\", \"idade\": 20},\n",
    "    {\"nome\": \"Carlos\", \"idade\": 45},\n",
    "]\n",
    "\n",
    "# Ordenando por idade\n",
    "pessoas_ordenadas = sorted(pessoas, key=lambda pessoa: pessoa[\"idade\"])\n",
    "print(pessoas_ordenadas)\n"
   ]
  },
  {
   "cell_type": "markdown",
   "metadata": {},
   "source": [
    "Neste exemplo, usamos uma função lambda como a função de ordenação. A função lambda extrai o valor da chave \"idade\" de cada dicionário, e a lista é ordenada com base nesses valores.\n",
    "\n",
    "##### Exemplo 3: Ordenando uma lista de tuplas por múltiplos critérios"
   ]
  },
  {
   "cell_type": "code",
   "execution_count": null,
   "metadata": {},
   "outputs": [],
   "source": [
    "produtos = [\n",
    "    (\"banana\", 2.50, 10),\n",
    "    (\"laranja\", 1.50, 15),\n",
    "    (\"maçã\", 3.00, 5)\n",
    "]\n",
    "\n",
    "# Ordenando por preço (índice 1) e, em caso de empate, por quantidade (índice 2)\n",
    "produtos_ordenados = sorted(produtos, key=lambda produto: (produto[1], produto[2]))\n",
    "print(produtos_ordenados)\n"
   ]
  },
  {
   "cell_type": "markdown",
   "metadata": {},
   "source": [
    "Neste exemplo, a função lambda retorna uma tupla contendo o preço e a quantidade de cada produto. A lista é ordenada primeiro pelo preço e, em caso de empate, pela quantidade.\n",
    "\n",
    "O argumento key oferece uma maneira poderosa e flexível de personalizar a ordenação de listas em Python, permitindo que você defina critérios de ordenação complexos de forma simples e concisa."
   ]
  },
  {
   "cell_type": "markdown",
   "metadata": {},
   "source": [
    "## <span style=\"color:#306998\">***6. Tuplas***</span>\n",
    "\n",
    "São coleçoes, mas são diferentes das listas. Seus valores não podem ser alterados, enquanto o de listas é possivel.\n",
    "\n",
    "Tuplas são feitas para garantir que os dados não serão modificados acidentalmente.\n",
    "\n",
    "Ainda é possivel acessar usando o indice.\n",
    "\n",
    "~~Caso queira ver na pratica o funcionamento, poderá tirar o #~~\n",
    "\n",
    "No exemplo a seguir, vamos seguir a ideia que temos de ter o nome do produto, o valor dele e quantas unidades ou quilos, dependendo do produto, formam vendidas durante a ultima semana"
   ]
  },
  {
   "cell_type": "code",
   "execution_count": null,
   "metadata": {},
   "outputs": [],
   "source": [
    "venda_laranja = (\"laranja\", 2.50, 10)\n",
    "\n",
    "#venda_laranja[2] = 30\n",
    "\n",
    "print(venda_laranja)"
   ]
  },
  {
   "cell_type": "markdown",
   "metadata": {},
   "source": [
    "Podemos por exemplo colocar tuplas dentro de listas, quando temos de guarda muitas informações que não podem ser alteradas.\n",
    "\n",
    "Exemplo:"
   ]
  },
  {
   "cell_type": "code",
   "execution_count": null,
   "metadata": {},
   "outputs": [],
   "source": [
    "lista_de_vendas = []\n",
    "\n",
    "venda_laranja = (\"laranja\", 2.50, 10)\n",
    "venda_banana = (\"banana\", 3.50, 20)\n",
    "venda_limao = (\"limão\", 1.50, 15)\n",
    "\n",
    "lista_de_vendas.append(venda_laranja)\n",
    "lista_de_vendas.append(venda_banana)\n",
    "lista_de_vendas.append(venda_limao)\n",
    "\n",
    "\n",
    "\n",
    "print(lista_de_vendas)"
   ]
  },
  {
   "cell_type": "markdown",
   "metadata": {},
   "source": [
    "#### <span style=\"color:#306998\">**Por que usar Tuplas?**</span>\n",
    "\n",
    "Imagine que você está analisando as vendas de laranja nos últimos 6 meses. Você quer saber quando houve o maior volume de vendas, qual foi o valor de venda mais frequente, entre outras métricas. Esses dados representam um histórico de vendas, ou seja, informações que não devem mudar após a coleta.\n",
    "\n",
    "Neste caso, tuplas são uma escolha excelente. Por que?\n",
    "\n",
    "    - Imutabilidade: Ao usar uma tupla, você garante que os dados não serão alterados acidentalmente. Isso é importante para manter a integridade dos seus dados, evitando mudanças inesperadas durante a análise.\n",
    "    - Segurança: Se houver incidentes, como falhas no código ou alterações involuntárias nos dados, o uso de tuplas assegura que os dados históricos permanecem intactos, garantindo uma análise confiável.\n",
    "\n",
    "Portanto, quando você trabalha com dados que não precisam ser modificados, como históricos de vendas, tuplas oferecem uma maneira de preservar a consistência e segurança da sua análise."
   ]
  },
  {
   "cell_type": "markdown",
   "metadata": {},
   "source": [
    "## <span style=\"color:#306998\">***7. Dicionários: Estruturas Chave-Valor***</span>\n",
    "\n",
    "O que você lembra quando se fala sobre dicionários? Provalvelmente sobre um livro enorme que contem palavras e os seus significados. Do mesmo modo, dicionários em python funcionam do mesmo jeito. Vamos ver sobre o diagrama do dicionário.\n",
    "\n",
    "<div style=\"text-align: center;\">\n",
    "  <img src=\"./assets/diagrama_dicionario.jpg\" width=\"400\" height=\"300\" />\n",
    "</div>\n",
    "\n",
    "Dicionários em Python são coleções de itens, onde cada item é composto por uma chave (key) e um valor (value). A chave é única dentro do dicionário e é usada para acessar o valor associado a ela.\n",
    "\n",
    "#### <span style=\"color:#306998\">**Estrutura**</span>\n",
    "Como a estrutura em python é representada:"
   ]
  },
  {
   "cell_type": "code",
   "execution_count": null,
   "metadata": {},
   "outputs": [],
   "source": [
    "aluno1 = {\n",
    "    \"nome\": \"Gustavo\",\n",
    "    \"sobrenome\": \"Gustavo\",\n",
    "    \"idade\": 25,\n",
    "    \"cidade\": \"Xique-Xique\",\n",
    "    \"curso\": \"Desenvolvimento de Sistemas\"\n",
    "}\n",
    "aluno2 = {\n",
    "    \"nome\": \"Ana\",\n",
    "    \"sobrenome\": None, # None é um tipo de dado que representa a ausência de valor, vazio\n",
    "    \"idade\": 20,\n",
    "    \"cidade\": \"Xique-Xique\",\n",
    "    \"curso\": \"Desenvolvimento de Sistemas\"\n",
    "}\n",
    "\n",
    "aluno3 = {\n",
    "    \"nome\": \"Julia\",\n",
    "    \"sobrenome\": \"Rodrigues\",\n",
    "    \"idade\": 18,\n",
    "    \"cidade\": \"Xique-Xique\",\n",
    "    \"curso\": None\n",
    "}\n"
   ]
  },
  {
   "cell_type": "markdown",
   "metadata": {},
   "source": [
    "Apos cada key, colocamos **:** para declarar qual sera o valor. Apos cada valor, caso desejemos colocar mais valores, como no exemplo, sobrenome, idade ou cidade, colocamos uma virgula. Mas note que nesse dicionário aconteceu um erro! Colocamos o mesmo valor de nome e sobrenome. Que ser humano teria o nome Gustavo Gustavo? (Sem ofença a todos os Gustavo Gustavo no mundo)\n",
    "\n",
    "#### <span style=\"color:#306998\">**Adição ou Modificação de Valores**</span>\n",
    "Para modificarmos ou adicionarmos valores, essa é a estrutura que utilizamo:"
   ]
  },
  {
   "cell_type": "code",
   "execution_count": null,
   "metadata": {},
   "outputs": [],
   "source": [
    "aluno1[\"sobrenome\"] = \"Guimaraes\"\n",
    "aluno2[\"sobrenome\"] = \"Silva\"\n",
    "aluno3[\"curso\"] = \"Desenvolvimento de Sistemas\"\n",
    "\n",
    "print(aluno1)\n",
    "print(aluno2)\n",
    "print(aluno3)"
   ]
  },
  {
   "cell_type": "markdown",
   "metadata": {},
   "source": [
    "####  <span style=\"color:#306998\">**Removendo Itens**</span>\n",
    "Assim como podemos remover itens de listas, tambem podemos remover valores que existam dentro de um dicionário. Vamos supor que você esta fazendo um dicionário que os cursos de alunos de uma instituição, como os que temos a cima. Mas o aluno 3, resolve sair de seu curso para seguir seu sonho de ser o maior vendedor de pijamas ja visto. Logo temos de remover o valor de curso do dicionário. Como podemos fazer isso? Existem 2 principais maneiras."
   ]
  },
  {
   "cell_type": "code",
   "execution_count": null,
   "metadata": {},
   "outputs": [],
   "source": [
    "curso_removido = aluno3.pop(\"curso\", None) #Se curso não existir, None será retornado e nenhum erro será gerado\n",
    "\n",
    "print(aluno3)\n",
    "print(f\"Curso removido: {curso_removido}\")\n",
    "\n",
    "\n",
    "del aluno3[\"cidade\"]\n",
    "print(aluno3)"
   ]
  },
  {
   "cell_type": "markdown",
   "metadata": {},
   "source": [
    "A diferença entre pop() e del em dicionários é que pop() remove a chave e retorna seu valor, permitindo armazená-lo. Já del apenas remove a chave, sem retornar nada."
   ]
  },
  {
   "cell_type": "markdown",
   "metadata": {},
   "source": [
    "#### <span style=\"color:#306998\">**Acessar um valor pelo nome da chave**</span>\n",
    "\n",
    "É possivel acessar um valor em um dicionário usando somente a chave. Exemplo:"
   ]
  },
  {
   "cell_type": "markdown",
   "metadata": {},
   "source": [
    "Note que chamamos os dicionários 1 chave por vez. Por que so não chamar tudo de uma vez, como no exemplo a seguir?"
   ]
  },
  {
   "cell_type": "code",
   "execution_count": null,
   "metadata": {},
   "outputs": [],
   "source": [
    "print(f\"{aluno1[\"nome\", \"sobrenome\"]}\")"
   ]
  },
  {
   "cell_type": "markdown",
   "metadata": {},
   "source": [
    "O codigo ira gerar um erro, acessar 2 chaves ao mesmo tempo não é permitido em um dicionário.\n",
    "Em Python ao utilizar dicionários, é necessario acessar uma chave por vez, assim como no exemplo a cima."
   ]
  },
  {
   "cell_type": "markdown",
   "metadata": {},
   "source": [
    "## <span style=\"color:#306998\">***8. Bibliotecas e Módulos***</span>\n",
    "\n",
    "As bibliotecas em Python permitem reaproveitar códigos já criados para facilitar o desenvolvimento. Imagine o seguinte cenário: você quer calcular 3 elevado à quarta potência, encontrar a raiz quadrada de um número e saber a tangente de um ângulo. Em vez de criar cada cálculo manualmente, você pode usar a biblioteca math para simplificar.\n",
    "\n",
    "#### <span style=\"color:#306998\">**Como importar uma biblioteca?**</span>\n",
    "Para importar uma biblioteca, usamos o comando import no início do código. Veja o exemplo:"
   ]
  },
  {
   "cell_type": "code",
   "execution_count": null,
   "metadata": {},
   "outputs": [],
   "source": [
    "import math\n",
    "\n",
    "# elevado um numero ao quadrado\n",
    "print(math.pow(3,4))\n",
    "\n",
    "# raiz quadrada\n",
    "print(math.sqrt(81))\n",
    "\n",
    "# tangente de um angulo\n",
    "print(math.tan(2))"
   ]
  },
  {
   "cell_type": "markdown",
   "metadata": {},
   "source": [
    "Existem várias bibliotecas em Python para diferentes propósitos, oferecendo módulos e funções que agilizam o desenvolvimento."
   ]
  },
  {
   "cell_type": "markdown",
   "metadata": {},
   "source": [
    "### **Biblioteca random**\n",
    "\n",
    "A biblioteca `random` em Python é usada para gerar números pseudo-aleatórios para várias finalidades, como simulações, jogos, testes e muito mais. Ela oferece uma ampla gama de funções para gerar números aleatórios, selecionar itens aleatórios de sequências e embaralhar dados.\n",
    "\n",
    "### **Instalação**\n",
    "\n",
    "A biblioteca `random` é uma biblioteca padrão do Python, o que significa que ela já vem incluída com a instalação do Python. Não é necessário instalar nada adicionalmente.\n",
    "\n",
    "### <span style=\"color:#f17ea1\">**Principais Funções**</span>\n",
    "\n",
    "#### <span style=\"color:#306998\">**1. random()**</span>\n",
    "\n",
    "A função `random()` retorna um número de ponto flutuante aleatório no intervalo [0.0, 1.0)."
   ]
  },
  {
   "cell_type": "code",
   "execution_count": 20,
   "metadata": {},
   "outputs": [
    {
     "name": "stdout",
     "output_type": "stream",
     "text": [
      "0.649783552290792\n"
     ]
    }
   ],
   "source": [
    "import random\n",
    "\n",
    "print(random.random())  "
   ]
  },
  {
   "cell_type": "markdown",
   "metadata": {},
   "source": [
    "#### <span style=\"color:#306998\">**2. randint(a, b)**</span>\n",
    "A função randint(a, b) retorna um número inteiro aleatório N tal que a <= N <= b.\n",
    "\n"
   ]
  },
  {
   "cell_type": "code",
   "execution_count": null,
   "metadata": {},
   "outputs": [],
   "source": [
    "import random\n",
    "\n",
    "print(random.randint(1, 10)) "
   ]
  },
  {
   "cell_type": "markdown",
   "metadata": {},
   "source": [
    "#### <span style=\"color:#306998\">**3. choice(seq)**</span>\n",
    "A função choice(seq) retorna um elemento aleatório de uma sequência não vazia (como uma lista ou tupla)."
   ]
  },
  {
   "cell_type": "code",
   "execution_count": null,
   "metadata": {},
   "outputs": [],
   "source": [
    "import random\n",
    "\n",
    "nomes = [\"Ana\", \"Bruno\", \"Carlos\"]\n",
    "print(random.choice(nomes)) "
   ]
  },
  {
   "cell_type": "markdown",
   "metadata": {},
   "source": [
    "#### <span style=\"color:#306998\">**4. shuffle(seq)**</span>\n",
    "A função shuffle(seq) embaralha a sequência (lista) no local, alterando a ordem dos elementos de forma aleatória."
   ]
  },
  {
   "cell_type": "code",
   "execution_count": null,
   "metadata": {},
   "outputs": [],
   "source": [
    "import random\n",
    "\n",
    "cartas = [\"Ás\", \"Rei\", \"Rainha\", \"Valete\"]\n",
    "random.shuffle(cartas)\n",
    "print(cartas)  "
   ]
  },
  {
   "cell_type": "markdown",
   "metadata": {},
   "source": [
    "#### <span style=\"color:#306998\">**5. sample(population, k)**</span>\n",
    "A função sample(population, k) retorna uma lista de tamanho k contendo elementos únicos escolhidos aleatoriamente da população.\n"
   ]
  },
  {
   "cell_type": "code",
   "execution_count": null,
   "metadata": {},
   "outputs": [
    {
     "name": "stdout",
     "output_type": "stream",
     "text": [
      "[1, 11, 30, 19, 23, 6]\n"
     ]
    }
   ],
   "source": [
    "import random\n",
    "\n",
    "numeros = list(range(1, 50))\n",
    "amostra = random.sample(numeros, 6)\n",
    "print(amostra)  "
   ]
  },
  {
   "cell_type": "markdown",
   "metadata": {},
   "source": [
    "#### <span style=\"color:#306998\">**Exemplo de Uso**</span>\n",
    "Vamos ver um exemplo prático usando algumas dessas funções para simular o lançamento de um dado:"
   ]
  },
  {
   "cell_type": "code",
   "execution_count": null,
   "metadata": {},
   "outputs": [],
   "source": [
    "import random\n",
    "\n",
    "def lancar_dado():\n",
    "    return random.randint(1, 6)\n",
    "\n",
    "resultados = [lancar_dado() for _ in range(10)]\n",
    "print(resultados)  "
   ]
  },
  {
   "cell_type": "markdown",
   "metadata": {},
   "source": [
    "Neste exemplo, a função lancar_dado() simula o lançamento de um dado de seis lados, retornando um número inteiro aleatório entre 1 e 6. Em seguida, usamos uma list comprehension para lançar o dado 10 vezes e armazenar os resultados em uma lista.\n",
    "\n",
    "A biblioteca random é uma ferramenta poderosa para gerar números aleatórios e realizar operações aleatórias em sequências, sendo amplamente utilizada em diversas aplicações de programação."
   ]
  },
  {
   "cell_type": "markdown",
   "metadata": {},
   "source": [
    "## **Principais Bibliotecas em Python**\n",
    "\n",
    "Python é uma linguagem de programação extremamente versátil e poderosa, em grande parte devido à vasta quantidade de bibliotecas disponíveis. Essas bibliotecas permitem que os desenvolvedores realizem tarefas complexas de maneira eficiente e com menos código. Aqui estão algumas das principais bibliotecas em Python:\n",
    "\n",
    "#### **1. NumPy**\n",
    "\n",
    "NumPy (Numerical Python) é uma biblioteca fundamental para computação científica em Python. Ela fornece suporte para arrays multidimensionais e matrizes, além de uma coleção de funções matemáticas para operar esses arrays de maneira eficiente.\n",
    "\n",
    "Comando para dowload:\n",
    "```bash\n",
    "pip install numpy\n",
    "```\n",
    "\n",
    "Exemplo de uso:\n"
   ]
  },
  {
   "cell_type": "code",
   "execution_count": null,
   "metadata": {},
   "outputs": [],
   "source": [
    "import numpy as np\n",
    "\n",
    "# Criando um array\n",
    "arr = np.array([1, 2, 3, 4, 5])\n",
    "print(arr)\n",
    "\n",
    "# Operações matemáticas\n",
    "print(np.mean(arr))  # Média\n",
    "print(np.std(arr))   # Desvio padrão"
   ]
  },
  {
   "cell_type": "markdown",
   "metadata": {},
   "source": [
    "#### **2.Pandas**\n",
    "\n",
    "Pandas é uma biblioteca poderosa para análise de dados. Ela fornece estruturas de dados flexíveis e expressivas, como DataFrames, que facilitam a manipulação, análise e visualização de dados.\n",
    "\n",
    "Comando para dowload:\n",
    "```bash\n",
    "pip install pandas\n",
    "```\n",
    "\n",
    "Exemplo de uso:"
   ]
  },
  {
   "cell_type": "code",
   "execution_count": null,
   "metadata": {},
   "outputs": [],
   "source": [
    "import pandas as pd\n",
    "\n",
    "# Criando um DataFrame\n",
    "data = {'Nome': ['Ana', 'Bruno', 'Carlos'], 'Idade': [23, 35, 45]}\n",
    "df = pd.DataFrame(data)\n",
    "print(df)\n",
    "\n",
    "# Estatísticas descritivas\n",
    "print(df.describe())"
   ]
  },
  {
   "cell_type": "markdown",
   "metadata": {},
   "source": [
    "#### **3.Matplotib**\n",
    "\n",
    "Matplotlib é uma biblioteca de plotagem 2D que permite criar gráficos e visualizações de dados de alta qualidade. É amplamente utilizada para criar gráficos de linha, barras, dispersão, histogramas e muito mais.\n",
    "\n",
    "```bash\n",
    "pip install matplotlib\n",
    "```\n",
    "\n",
    "Exemplo de uso:"
   ]
  },
  {
   "cell_type": "code",
   "execution_count": null,
   "metadata": {},
   "outputs": [],
   "source": [
    "import matplotlib.pyplot as plt\n",
    "\n",
    "# Dados para plotagem\n",
    "x = [1, 2, 3, 4, 5]\n",
    "y = [2, 3, 5, 7, 11]\n",
    "\n",
    "# Criando um gráfico de linha\n",
    "plt.plot(x, y)\n",
    "plt.xlabel('X')\n",
    "plt.ylabel('Y')\n",
    "plt.title('Gráfico de Linha')\n",
    "plt.show()"
   ]
  },
  {
   "cell_type": "markdown",
   "metadata": {},
   "source": [
    "#### **4. Scikit-learn**\n",
    "Scikit-learn é uma biblioteca de aprendizado de máquina que fornece ferramentas simples e eficientes para análise de dados e mineração de dados. Ela inclui algoritmos para classificação, regressão, clustering e redução de dimensionalidade.\n",
    "\n",
    "```bash\n",
    "pip install scikit-learn\n",
    "```\n",
    "\n",
    "Exemplo de uso:"
   ]
  },
  {
   "cell_type": "code",
   "execution_count": null,
   "metadata": {},
   "outputs": [],
   "source": [
    "from sklearn.linear_model import LinearRegression\n",
    "\n",
    "# Dados de exemplo\n",
    "X = [[1], [2], [3], [4], [5]]\n",
    "y = [2, 3, 5, 7, 11]\n",
    "\n",
    "# Criando um modelo de regressão linear\n",
    "model = LinearRegression()\n",
    "model.fit(X, y)\n",
    "\n",
    "# Fazendo previsões\n",
    "predictions = model.predict([[6]])\n",
    "print(predictions)"
   ]
  },
  {
   "cell_type": "markdown",
   "metadata": {},
   "source": [
    "#### **5. TensorFlow**\n",
    "TensorFlow é uma biblioteca de código aberto para computação numérica e aprendizado de máquina. Ela é amplamente utilizada para construir e treinar modelos de aprendizado profundo (deep learning).\n",
    "\n",
    "```bash\n",
    "pip install tensorflow\n",
    "```\n",
    "\n",
    "Exemplo de uso:"
   ]
  },
  {
   "cell_type": "code",
   "execution_count": null,
   "metadata": {},
   "outputs": [],
   "source": [
    "import tensorflow as tf\n",
    "\n",
    "# Criando um tensor constante\n",
    "hello = tf.constant('Hello, TensorFlow!')\n",
    "tf.print(hello)"
   ]
  },
  {
   "cell_type": "markdown",
   "metadata": {},
   "source": [
    "Essas são apenas algumas das muitas bibliotecas disponíveis em Python."
   ]
  }
 ],
 "metadata": {
  "kernelspec": {
   "display_name": "base",
   "language": "python",
   "name": "python3"
  },
  "language_info": {
   "codemirror_mode": {
    "name": "ipython",
    "version": 3
   },
   "file_extension": ".py",
   "mimetype": "text/x-python",
   "name": "python",
   "nbconvert_exporter": "python",
   "pygments_lexer": "ipython3",
   "version": "3.12.7"
  }
 },
 "nbformat": 4,
 "nbformat_minor": 2
}
