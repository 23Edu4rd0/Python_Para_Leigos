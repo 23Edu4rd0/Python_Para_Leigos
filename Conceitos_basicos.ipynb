{
 "cells": [
  {
   "cell_type": "markdown",
   "metadata": {},
   "source": [
    "# <font color=\"#306998\">Python para Leigos</font>"
   ]
  },
  {
   "cell_type": "markdown",
   "metadata": {},
   "source": [
    "Bem-vindo ao *Python para Leigos*, um guia prático e direto para quem está começando a programar. Este notebook foi criado para ajudar iniciantes a entenderem os conceitos básicos da linguagem Python, com exemplos claros e explicações objetivas.\n",
    "\n",
    "⚠️ **Aviso Importante:**  \n",
    "Este material **não substitui a documentação oficial do Python**. Ele serve apenas como um guia complementar para auxiliar no aprendizado inicial, ajudar a entender conceitos básicos e facilitar a resolução de erros comuns.  \n",
    "\n",
    "O notebook foi elaborado com foco em aprendizado prático e exemplos simples. No entanto:  \n",
    "- Não aborda tópicos avançados da linguagem.  \n",
    "- Pode não cobrir todos os detalhes de cada funcionalidade.  \n",
    "- Não garante que as soluções apresentadas sejam as mais otimizadas ou ideais para ambientes de produção.  \n",
    "\n",
    "Para aprofundar seu conhecimento, consulte sempre a [documentação oficial do Python](https://docs.python.org/pt-br/3/).\n",
    "\n",
    "## **O que você vai encontrar?**\n",
    "Neste notebook, você aprenderá os seguintes conceitos:  \n",
    "\n",
    "1. **Variáveis**  \n",
    "2. **Funções, Tipagem e Entrada de Dados**  \n",
    "3. **Trabalhando com Listas**  \n",
    "    - Criando listas  \n",
    "    - Adicionando itens  \n",
    "    - Removendo itens  \n",
    "    - Acessando elementos  \n",
    "    - Ordenando e filtrando listas  \n",
    "4. **Tuplas**  \n",
    "    - O que são tuplas?  \n",
    "    - Por que usá-las?  \n",
    "    - Como acessar elementos  \n",
    "5. **Dicionários: Estrutura Chave-Valor**  \n",
    "    - Estrutura  \n",
    "    - Adicionando e modificando valores  \n",
    "    - Acessando valores  \n",
    "    - Removendo itens  \n",
    "6. **Bibliotecas e Módulos**  \n",
    "    - O que são bibliotecas?  \n",
    "    - Como utilizá-las?  \n",
    "    - Principais bibliotecas em Python  \n",
    "7. **Extras**  \n",
    "    - Estruturas Condicionais (*if*, *else*, *elif*)  \n",
    "    - Laços de Repetição (*for*, *while*)  \n",
    "    - Tratamento de Erros (*try*, *except*)  \n",
    "    - Manipulação de Arquivos (*leitura e escrita*)  \n",
    "\n",
    "\n",
    "## **Como usar este notebook?**\n",
    "- Navegue pelos tópicos usando os links acima.  \n",
    "- Execute as células de código para ver os exemplos funcionando.  \n",
    "- Modifique os exemplos para testar seu aprendizado.\n",
    "\n",
    "*Vamos começar?*\n"
   ]
  },
  {
   "cell_type": "markdown",
   "metadata": {},
   "source": [
    "## **Variáveis**\n",
    "Assim como varias outras linguagens, python tambem tem tipos de variaiveis. No exemplo a seguir temos string, int, float e boorlean"
   ]
  },
  {
   "cell_type": "code",
   "execution_count": 34,
   "metadata": {},
   "outputs": [],
   "source": [
    "nome = \"Eduardo\" #string\n",
    "idade = 20 #int\n",
    "valor_carteira = 200.00 #float\n",
    "vivo = False #bool"
   ]
  },
  {
   "cell_type": "markdown",
   "metadata": {},
   "source": [
    "Em python, as variavies são dinamicas, ou seja, toda vez que você reatribuir um valor pra uma variavel, você pode mudar o tipo.\n",
    "\n",
    "Exemplo:"
   ]
  },
  {
   "cell_type": "code",
   "execution_count": 35,
   "metadata": {},
   "outputs": [
    {
     "name": "stdout",
     "output_type": "stream",
     "text": [
      "Gustavo\n",
      "20.756\n"
     ]
    }
   ],
   "source": [
    "nome = \"Gustavo\"\n",
    "print(nome)\n",
    "nome = 20.756\n",
    "print(nome)"
   ]
  },
  {
   "cell_type": "markdown",
   "metadata": {},
   "source": [
    "## **Funções, Tipagem e Entrada de Dados** \n",
    "\n",
    "As funções em Python são blocos de código reutilizáveis que realizam uma tarefa específica. Elas ajudam a organizar o código, facilitando a manutenção e a leitura. Para definir uma função, usamos a palavra-chave def, seguida do nome da função e dos parâmetros entre parênteses.\n",
    "\n",
    "#### **Definindo e chamando funções**\n",
    "Uma função pode ou não retornar um valor. Se não houver um return, o resultado será exibido diretamente ou usado dentro da função."
   ]
  },
  {
   "cell_type": "code",
   "execution_count": 36,
   "metadata": {},
   "outputs": [
    {
     "name": "stdout",
     "output_type": "stream",
     "text": [
      "12\n"
     ]
    }
   ],
   "source": [
    "def soma(a,b):\n",
    "    resultado = a + b\n",
    "    return resultado\n",
    "\n",
    "a= 7\n",
    "b = 5\n",
    "total = soma(a,b) #da a total o valor de resultado\n",
    "print(total)"
   ]
  },
  {
   "cell_type": "markdown",
   "metadata": {},
   "source": [
    "Nesse exemplo, a função somar recebe dois parâmetros (a e b), calcula a soma e retorna o valor resultante. O valor é armazenado na variável total e exibido com print.\n",
    "\n",
    "#### **Tratando Erros de Tipagem**\n",
    "\n",
    "Mesmo que python seja uma linguagem dinamica, ela não permite operações entre tipos incompatíveis, como somar um número com uma string. Isso gera um erro de TypeError.\n",
    "\n",
    "Exemplo:"
   ]
  },
  {
   "cell_type": "code",
   "execution_count": 37,
   "metadata": {},
   "outputs": [
    {
     "ename": "TypeError",
     "evalue": "unsupported operand type(s) for +: 'int' and 'str'",
     "output_type": "error",
     "traceback": [
      "\u001b[1;31m---------------------------------------------------------------------------\u001b[0m",
      "\u001b[1;31mTypeError\u001b[0m                                 Traceback (most recent call last)",
      "Cell \u001b[1;32mIn[37], line 7\u001b[0m\n\u001b[0;32m      5\u001b[0m a\u001b[38;5;241m=\u001b[39m \u001b[38;5;241m7\u001b[39m\n\u001b[0;32m      6\u001b[0m b \u001b[38;5;241m=\u001b[39m \u001b[38;5;124m\"\u001b[39m\u001b[38;5;124mProz\u001b[39m\u001b[38;5;124m\"\u001b[39m\n\u001b[1;32m----> 7\u001b[0m total \u001b[38;5;241m=\u001b[39m \u001b[43msoma\u001b[49m\u001b[43m(\u001b[49m\u001b[43ma\u001b[49m\u001b[43m,\u001b[49m\u001b[43mb\u001b[49m\u001b[43m)\u001b[49m\n\u001b[0;32m      8\u001b[0m \u001b[38;5;28mprint\u001b[39m(total) \u001b[38;5;66;03m#dara um erro pelos tipos diferentes\u001b[39;00m\n",
      "Cell \u001b[1;32mIn[37], line 2\u001b[0m, in \u001b[0;36msoma\u001b[1;34m(a, b)\u001b[0m\n\u001b[0;32m      1\u001b[0m \u001b[38;5;28;01mdef\u001b[39;00m\u001b[38;5;250m \u001b[39m\u001b[38;5;21msoma\u001b[39m(a,b):\n\u001b[1;32m----> 2\u001b[0m     resultado \u001b[38;5;241m=\u001b[39m \u001b[43ma\u001b[49m\u001b[43m \u001b[49m\u001b[38;5;241;43m+\u001b[39;49m\u001b[43m \u001b[49m\u001b[43mb\u001b[49m\n\u001b[0;32m      3\u001b[0m     \u001b[38;5;28;01mreturn\u001b[39;00m resultado\n",
      "\u001b[1;31mTypeError\u001b[0m: unsupported operand type(s) for +: 'int' and 'str'"
     ]
    }
   ],
   "source": [
    "def soma(a,b):\n",
    "    resultado = a + b\n",
    "    return resultado\n",
    "\n",
    "a= 7\n",
    "b = \"Proz\"\n",
    "total = soma(a,b)\n",
    "print(total) #dara um erro pelos tipos diferentes"
   ]
  },
  {
   "cell_type": "markdown",
   "metadata": {},
   "source": [
    "#### **Concatenando Strings**\n",
    "\n",
    "Ja nesta situação dara certo, pois o python quando se depara com a soma de duas strings entente que é uma contatenação. Lembre-se que sommente soma funciona com strings."
   ]
  },
  {
   "cell_type": "code",
   "execution_count": null,
   "metadata": {},
   "outputs": [],
   "source": [
    "def soma(a,b):\n",
    "    resultado = a + b\n",
    "    return resultado\n",
    "\n",
    "c = \"Eduardo \"\n",
    "d = \"Ama a Proz\"\n",
    "total = soma(c,d)\n",
    "print(total)"
   ]
  },
  {
   "cell_type": "markdown",
   "metadata": {},
   "source": [
    "## **Entrada de Dados**\n",
    "\n",
    "Para interagir com o usuário, usamos a função input(). Ela sempre retorna uma string, mesmo que o valor digitado seja numérico. Se for necessário realizar cálculos, converta o valor para inteiro (int()) ou ponto flutuante (float())."
   ]
  },
  {
   "cell_type": "code",
   "execution_count": null,
   "metadata": {},
   "outputs": [],
   "source": [
    "nome = input(\"Qual é o seu nome? \")\n",
    "idade = int(input(\"Quantos anos você tem? \")) #Int é colocado para que o inpput seja um numero inteiro\n",
    "print(f\"Olá, {nome}! Você tem {idade} anos.\")"
   ]
  },
  {
   "cell_type": "code",
   "execution_count": null,
   "metadata": {},
   "outputs": [
    {
     "name": "stdout",
     "output_type": "stream",
     "text": [
      "34\n"
     ]
    }
   ],
   "source": [
    "# Codigo contendo um erro\n",
    "\n",
    "a = input(\"Digite o valor de a:\")\n",
    "b = input(\"Digite o valor de b:\")\n",
    "\n",
    "print(a + b) #O resultado será a contatenação dos valores digitados em vez da soma"
   ]
  },
  {
   "cell_type": "markdown",
   "metadata": {},
   "source": [
    "## ***Trabalhando com Listas***\n",
    "\n",
    "Neste tutorial, vamos aprender a realizar operações básicas com listas, ou coleções em Python. As listas são estruturas de dados versáteis que permitem armazenar múltiplos itens em uma única variável\n",
    "\n",
    "#### **1. Criando Listas**\n",
    "\n",
    "Primeiramente, vamos criar nossas listas. Uma lista pode ser formada por qualquer tipo de dado, como strings, números, ou até mesmo outras listas. Para criar uma lista, basta usar colchetes [] e separar os itens por vírgulas."
   ]
  },
  {
   "cell_type": "code",
   "execution_count": null,
   "metadata": {},
   "outputs": [],
   "source": [
    "lista_programadores = [\"Eduardo\", \"Gustavo\", \"Pedro\",\"Cajuru\"]\n",
    "lista_linguagens = [\"Python\", \"Java\", \"C++\"]\n",
    "\n",
    "print(lista_programadores)\n",
    "print(lista_linguagens)"
   ]
  },
  {
   "cell_type": "markdown",
   "metadata": {},
   "source": [
    "#### **2. Adicionando um Item ao Final da Lista**\n",
    "\n",
    "Para adicionar novos itens ao final de uma lista, utilizamos o método .append(). Ele adiciona um item ao fim da lista, aumentando seu tamanho."
   ]
  },
  {
   "cell_type": "code",
   "execution_count": null,
   "metadata": {},
   "outputs": [],
   "source": [
    "# Adicionando um programador e uma linguagem ao final da lista\n",
    "lista_programadores.append(\"Mateus\")\n",
    "lista_linguagens.append(\"JavaScript\")\n",
    "\n",
    "print(lista_programadores)\n",
    "print(lista_linguagens)\n"
   ]
  },
  {
   "cell_type": "markdown",
   "metadata": {},
   "source": [
    "#### **3. Adicionando um Item em uma Posição Específica**\n",
    "\n",
    "Se quisermos inserir um item em uma posição específica dentro da lista, usamos o método .insert(). Este método recebe dois parâmetros: a posição (índice) onde o item deve ser inserido e o valor do item."
   ]
  },
  {
   "cell_type": "code",
   "execution_count": null,
   "metadata": {},
   "outputs": [],
   "source": [
    "# Inserindo um programador e uma linguagem em uma posição específica\n",
    "lista_programadores.insert(2, \"Julia\")\n",
    "lista_linguagens.insert(3, \"Golang\")\n",
    "\n",
    "print(lista_programadores)\n",
    "print(lista_linguagens)\n"
   ]
  },
  {
   "cell_type": "markdown",
   "metadata": {},
   "source": [
    "#### **4.Removendo um Item por Índice**\n",
    "O método .pop() remove e retorna o item da lista na posição especificada. Se não fornecermos um índice, o .pop() remove o último item da lista."
   ]
  },
  {
   "cell_type": "code",
   "execution_count": null,
   "metadata": {},
   "outputs": [],
   "source": [
    "# Adicionando mais elementos\n",
    "lista_linguagens.append(\"C#\")\n",
    "lista_programadores.append(\"Dudu\")\n",
    "\n",
    "# Removendo um item por índice\n",
    "lista_programadores.pop(3)  # Remove a posição 3 da lista\n",
    "lista_linguagens.pop()  # Remove o último item da lista\n",
    "\n",
    "print(lista_programadores)\n",
    "print(lista_linguagens)\n"
   ]
  },
  {
   "cell_type": "markdown",
   "metadata": {},
   "source": [
    "#### **5.Removendo um Item Específico**\n",
    "Se quisermos remover um item específico da lista, podemos usar o método .remove(). Este método remove a primeira ocorrência do valor informado."
   ]
  },
  {
   "cell_type": "code",
   "execution_count": null,
   "metadata": {},
   "outputs": [],
   "source": [
    "# Removendo um programador e uma linguagem\n",
    "lista_programadores.remove(\"Julia\")\n",
    "lista_linguagens.remove(\"Golang\")\n",
    "\n",
    "print(lista_programadores)\n",
    "print(lista_linguagens)"
   ]
  },
  {
   "cell_type": "markdown",
   "metadata": {},
   "source": [
    "#### **6. Acessando Elementos das Listas**\n",
    "\n",
    "Agora que aprendemos a manipular as listas, vamos ver como acessar elementos específicos dentro delas. Para isso, usamos os índices. O índice de uma lista começa em 0, ou seja, o primeiro item da lista tem o índice 0, o segundo item tem o índice 1, e assim por diante.\n"
   ]
  },
  {
   "cell_type": "code",
   "execution_count": null,
   "metadata": {},
   "outputs": [],
   "source": [
    "# Acessando um item específico nas listas\n",
    "print(lista_programadores[4])  # Acessa o quinto programador\n",
    "print(lista_linguagens[2])  # Acessa a terceira linguagem"
   ]
  },
  {
   "cell_type": "markdown",
   "metadata": {},
   "source": [
    "## ***Tuplas***\n",
    "\n",
    "São coleçoes, mas são diferentes das listas. Seus valores não podem ser alterados, enquanto o de listas é possivel.\n",
    "\n",
    "Tuplas são feitas para garantir que os dados não serão modificados acidentalmente.\n",
    "\n",
    "Ainda é possivel acessar usando o indice.\n",
    "\n",
    "~~Caso queira ver na pratica o funcionamento, poderá tirar o #~~\n",
    "\n",
    "No exemplo a seguir, vamos seguir a ideia que temos de ter o nome do produto, o valor dele e quantas unidades ou quilos, dependendo do produto, formam vendidas durante a ultima semana"
   ]
  },
  {
   "cell_type": "code",
   "execution_count": null,
   "metadata": {},
   "outputs": [],
   "source": [
    "venda_laranja = (\"laranja\", 2.50, 10)\n",
    "\n",
    "#venda_laranja[2] = 30\n",
    "\n",
    "print(venda_laranja)"
   ]
  },
  {
   "cell_type": "markdown",
   "metadata": {},
   "source": [
    "Podemos por exemplo colocar tuplas dentro de listas, quando temos de guarda muitas informações que não podem ser alteradas.\n",
    "\n",
    "Exemplo:"
   ]
  },
  {
   "cell_type": "code",
   "execution_count": null,
   "metadata": {},
   "outputs": [],
   "source": [
    "lista_de_vendas = []\n",
    "\n",
    "venda_laranja = (\"laranja\", 2.50, 10)\n",
    "venda_banana = (\"banana\", 3.50, 20)\n",
    "venda_limao = (\"limão\", 1.50, 15)\n",
    "\n",
    "lista_de_vendas.append(venda_laranja)\n",
    "lista_de_vendas.append(venda_banana)\n",
    "lista_de_vendas.append(venda_limao)\n",
    "\n",
    "\n",
    "\n",
    "print(lista_de_vendas)"
   ]
  },
  {
   "cell_type": "markdown",
   "metadata": {},
   "source": [
    "#### **Mas por que usar Tuplas?**\n",
    "\n",
    "Imagine que você está analisando as vendas de laranja nos últimos 6 meses. Você quer saber quando houve o maior volume de vendas, qual foi o valor de venda mais frequente, entre outras métricas. Esses dados representam um histórico de vendas, ou seja, informações que não devem mudar após a coleta.\n",
    "\n",
    "Neste caso, tuplas são uma escolha excelente. Por que?\n",
    "\n",
    "- Imutabilidade: Ao usar uma tupla, você garante que os dados não serão alterados acidentalmente. Isso é importante para manter a integridade dos seus dados, evitando mudanças inesperadas durante a análise.\n",
    "- Segurança: Se houver incidentes, como falhas no código ou alterações involuntárias nos dados, o uso de tuplas assegura que os dados históricos permanecem intactos, garantindo uma análise confiável.\n",
    "\n",
    "Portanto, quando você trabalha com dados que não precisam ser modificados, como históricos de vendas, tuplas oferecem uma maneira de preservar a consistência e segurança da sua análise."
   ]
  },
  {
   "cell_type": "markdown",
   "metadata": {},
   "source": [
    "## ***Dicionários: Estruturas Chave-Valor***\n",
    "\n",
    "O que você lembra quando se fala sobre dicionários? Provalvelmente sobre um livro enorme que contem palavras e os seus significados. Do mesmo modo, dicionários em python funcionam do mesmo jeito. Vamos ver sobre o diagrama do dicionário.\n",
    "\n",
    "<div style=\"text-align: center;\">\n",
    "  <img src=\"./assets/diagrama_dicionario.jpg\" width=\"400\" height=\"300\" />\n",
    "</div>\n",
    "\n",
    "Dicionários em Python são coleções de itens, onde cada item é composto por uma chave (key) e um valor (value). A chave é única dentro do dicionário e é usada para acessar o valor associado a ela.\n",
    "\n",
    "### **Estrutura**\n",
    "Como a estrutura em python é representada:"
   ]
  },
  {
   "cell_type": "code",
   "execution_count": null,
   "metadata": {},
   "outputs": [],
   "source": [
    "aluno1 = {\n",
    "    \"nome\": \"Gustavo\",\n",
    "    \"sobrenome\": \"Gustavo\",\n",
    "    \"idade\": 25,\n",
    "    \"cidade\": \"Xique-Xique\",\n",
    "    \"curso\": \"Desenvolvimento de Sistemas\"\n",
    "}\n",
    "aluno2 = {\n",
    "    \"nome\": \"Ana\",\n",
    "    \"sobrenome\": None, # None é um tipo de dado que representa a ausência de valor, vazio\n",
    "    \"idade\": 20,\n",
    "    \"cidade\": \"Xique-Xique\",\n",
    "    \"curso\": \"Desenvolvimento de Sistemas\"\n",
    "}\n",
    "\n",
    "aluno3 = {\n",
    "    \"nome\": \"Julia\",\n",
    "    \"sobrenome\": \"Rodrigues\",\n",
    "    \"idade\": 18,\n",
    "    \"cidade\": \"Xique-Xique\",\n",
    "    \"curso\": None\n",
    "}\n"
   ]
  },
  {
   "cell_type": "markdown",
   "metadata": {},
   "source": [
    "Apos cada key, colocamos **:** para declarar qual sera o valor. Apos cada valor, caso desejemos colocar mais valores, como no exemplo, sobrenome, idade ou cidade, colocamos uma virgula. Mas note que nesse dicionário aconteceu um erro! Colocamos o mesmo valor de nome e sobrenome. Que ser humano teria o nome Gustavo Gustavo? (Sem ofença a todos os Gustavo Gustavo no mundo)\n",
    "\n",
    "#### **Adição ou Modificação  de Valores**\n",
    "Para modificarmos ou adicionarmos valores, essa é a estrutura que utilizamo:"
   ]
  },
  {
   "cell_type": "code",
   "execution_count": null,
   "metadata": {},
   "outputs": [],
   "source": [
    "aluno1[\"sobrenome\"] = \"Guimaraes\"\n",
    "aluno2[\"sobrenome\"] = \"Silva\"\n",
    "aluno3[\"curso\"] = \"Desenvolvimento de Sistemas\"\n",
    "\n",
    "print(aluno1)\n",
    "print(aluno2)\n",
    "print(aluno3)"
   ]
  },
  {
   "cell_type": "markdown",
   "metadata": {},
   "source": [
    "#### **Removendo itens**\n",
    "Assim como podemos remover itens de listas, tambem podemos remover valores que existam dentro de um dicionário. Vamos supor que você esta fazendo um dicionário que os cursos de alunos de uma instituição, como os que temos a cima. Mas o aluno 3, resolve sair de seu curso para seguir seu sonho de ser o maior vendedor de pijamas ja visto. Logo temos de remover o valor de curso do dicionário. Como podemos fazer isso? Existem 2 principais maneiras."
   ]
  },
  {
   "cell_type": "code",
   "execution_count": null,
   "metadata": {},
   "outputs": [],
   "source": [
    "curso_removido = aluno3.pop(\"curso\", None) #Se curso não existir, None será retornado e nenhum erro será gerado\n",
    "\n",
    "print(aluno3)\n",
    "print(f\"Curso removido: {curso_removido}\")\n",
    "\n",
    "\n",
    "del aluno3[\"cidade\"]\n",
    "print(aluno3)"
   ]
  },
  {
   "cell_type": "code",
   "execution_count": null,
   "metadata": {},
   "outputs": [],
   "source": []
  },
  {
   "cell_type": "markdown",
   "metadata": {},
   "source": [
    "A diferença entre pop() e del em dicionários é que pop() remove a chave e retorna seu valor, permitindo armazená-lo. Já del apenas remove a chave, sem retornar nada."
   ]
  },
  {
   "cell_type": "markdown",
   "metadata": {},
   "source": [
    "#### **Acessar um valor pelo nome da chave:**\n",
    "\n",
    "É possivel acessar um valor em um dicionário usando somente a chave. Exemplo:"
   ]
  },
  {
   "cell_type": "markdown",
   "metadata": {},
   "source": [
    "Note que chamamos os dicionários 1 chave por vez. Por que so não chamar tudo de uma vez, como no exemplo a seguir?"
   ]
  },
  {
   "cell_type": "code",
   "execution_count": null,
   "metadata": {},
   "outputs": [],
   "source": [
    "print(f\"{aluno1[\"nome\", \"sobrenome\"]}\")"
   ]
  },
  {
   "cell_type": "markdown",
   "metadata": {},
   "source": [
    "O codigo ira gerar um erro, acessar 2 chaves ao mesmo tempo não é permitido em um dicionário.\n",
    "Em Python ao utilizar dicionários, é necessario acessar uma chave por vez, assim como no exemplo a cima."
   ]
  },
  {
   "cell_type": "markdown",
   "metadata": {},
   "source": [
    "## **Bibliotecas**\n",
    "\n",
    "As bibliotecas em Python permitem reaproveitar códigos já criados para facilitar o desenvolvimento. Imagine o seguinte cenário: você quer calcular 3 elevado à quarta potência, encontrar a raiz quadrada de um número e saber a tangente de um ângulo. Em vez de criar cada cálculo manualmente, você pode usar a biblioteca math para simplificar.\n",
    "\n",
    "#### **Como importar uma biblioteca?**\n",
    "Para importar uma biblioteca, usamos o comando import no início do código. Veja o exemplo:"
   ]
  },
  {
   "cell_type": "code",
   "execution_count": null,
   "metadata": {},
   "outputs": [],
   "source": [
    "import math\n",
    "\n",
    "# elevado um numero ao quadrado\n",
    "print(math.pow(3,4))\n",
    "\n",
    "# raiz quadrada\n",
    "print(math.sqrt(81))\n",
    "\n",
    "# tangente de um angulo\n",
    "print(math.tan(2))"
   ]
  },
  {
   "cell_type": "markdown",
   "metadata": {},
   "source": [
    "Existem várias bibliotecas em Python para diferentes propósitos, oferecendo módulos e funções que agilizam o desenvolvimento."
   ]
  }
 ],
 "metadata": {
  "kernelspec": {
   "display_name": "Python 3",
   "language": "python",
   "name": "python3"
  },
  "language_info": {
   "codemirror_mode": {
    "name": "ipython",
    "version": 3
   },
   "file_extension": ".py",
   "mimetype": "text/x-python",
   "name": "python",
   "nbconvert_exporter": "python",
   "pygments_lexer": "ipython3",
   "version": "3.13.2"
  }
 },
 "nbformat": 4,
 "nbformat_minor": 2
}
