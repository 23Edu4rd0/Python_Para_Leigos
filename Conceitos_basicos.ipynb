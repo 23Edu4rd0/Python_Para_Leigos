{
 "cells": [
  {
   "cell_type": "markdown",
   "metadata": {},
   "source": [
    "# <font color=\"#306998\">Python para Leigos</font>"
   ]
  },
  {
   "cell_type": "markdown",
   "metadata": {},
   "source": [
    "Bem-vindo ao *Python para Leigos*, um guia prático e direto para quem está começando a programar. Este notebook foi criado para ajudar iniciantes a entenderem os conceitos básicos da linguagem Python, com exemplos claros e explicações objetivas.\n",
    "\n",
    "⚠️ **Aviso Importante:**  \n",
    "Este material **não substitui a documentação oficial do Python**. Ele serve apenas como um guia complementar para auxiliar no aprendizado inicial, ajudar a entender conceitos básicos e facilitar a resolução de erros comuns.  \n",
    "\n",
    "O notebook foi elaborado com foco em aprendizado prático e exemplos simples. No entanto:  \n",
    "- Não aborda tópicos avançados da linguagem.  \n",
    "- Pode não cobrir todos os detalhes de cada funcionalidade.  \n",
    "- Não garante que as soluções apresentadas sejam as mais otimizadas ou ideais para ambientes de produção.  \n",
    "\n",
    "Para aprofundar seu conhecimento, consulte sempre a [documentação oficial do Python](https://docs.python.org/pt-br/3/).\n",
    "\n",
    "## **O que você vai encontrar?**\n",
    "Neste notebook, você aprenderá os seguintes conceitos:  \n",
    "- [Variáveis](#variaiveis)\n",
    "- [Funções](#funções)  \n",
    "- [Listas](#listas)  \n",
    "- [Tuplas](#tuplas)  \n",
    "- [Dicionários](#dicionarios)\n",
    "\n",
    "## **Como usar este notebook?**\n",
    "- Navegue pelos tópicos usando os links acima.  \n",
    "- Execute as células de código para ver os exemplos funcionando.  \n",
    "- Modifique os exemplos para testar seu aprendizado.\n",
    "\n",
    "*Vamos começar?*\n"
   ]
  },
  {
   "cell_type": "markdown",
   "metadata": {},
   "source": [
    "## Variaiveis\n",
    "\n",
    "Assim como varias outras linguagens, python tambem tem tipos de variaiveis. No exemplo a seguir temos string, int, float e boorlean"
   ]
  },
  {
   "cell_type": "code",
   "execution_count": null,
   "metadata": {},
   "outputs": [],
   "source": [
    "nome = \"Eduardo\" #string\n",
    "idade = 20 #int\n",
    "valor_carteira = 200.00 #float\n",
    "vivo = False #bool"
   ]
  },
  {
   "cell_type": "markdown",
   "metadata": {},
   "source": [
    "Em python, as variavies são dinamicas, ou seja, toda vez que você reatribuir um valor pra uma variavel, você pode mudar o tipo.\n",
    "\n",
    "Exemplo:"
   ]
  },
  {
   "cell_type": "code",
   "execution_count": null,
   "metadata": {},
   "outputs": [],
   "source": [
    "nome = \"Gustavo\"\n",
    "print(nome)\n",
    "nome = 20.756\n",
    "print(nome)"
   ]
  },
  {
   "cell_type": "markdown",
   "metadata": {},
   "source": [
    "## ***Funções***\n",
    "se escreve \"def\" para definir uma função\n",
    "apos isso se coloca o nome da função\n",
    "e apos isso se coloca os parametros\n",
    "\n",
    "Uma função não precisa ter return, ela pode so mostrar algo na tela\n",
    "\n",
    "Exemplo:\n"
   ]
  },
  {
   "cell_type": "code",
   "execution_count": null,
   "metadata": {},
   "outputs": [],
   "source": [
    "def soma(a,b):\n",
    "    resultado = a + b\n",
    "    return resultado\n",
    "\n",
    "a= 7\n",
    "b = 5\n",
    "total = soma(a,b) #da a total o valor de resultado\n",
    "print(total)"
   ]
  },
  {
   "cell_type": "markdown",
   "metadata": {},
   "source": [
    "#### Erros\n",
    "\n",
    "Mesmo que python seja uma linguagem dinamica, ela não consegue juntar valores que são impossiveis de ser somados, como por exemplo, uma str e um float.\n",
    "\n",
    "Exemplo:"
   ]
  },
  {
   "cell_type": "code",
   "execution_count": null,
   "metadata": {},
   "outputs": [],
   "source": [
    "def soma(a,b):\n",
    "    resultado = a + b\n",
    "    return resultado\n",
    "\n",
    "a= 7\n",
    "b = \"Proz\"\n",
    "total = soma(a,b)\n",
    "print(total) #dara um erro pelos tipos diferentes\n"
   ]
  },
  {
   "cell_type": "markdown",
   "metadata": {},
   "source": [
    "Ja nesta situação dara certo, pois o python quando se depara com a soma de duas strings entente que é uma contatenação. Lembre-se que sommente soma funciona com strings, caso tente outas operações dara erro"
   ]
  },
  {
   "cell_type": "code",
   "execution_count": null,
   "metadata": {},
   "outputs": [],
   "source": [
    "def soma(a,b):\n",
    "    resultado = a + b\n",
    "    return resultado\n",
    "\n",
    "c = \"Eduardo \"\n",
    "d = \"Ama a Proz\"\n",
    "total = soma(c,d)\n",
    "print(total)"
   ]
  },
  {
   "cell_type": "markdown",
   "metadata": {},
   "source": [
    "## ***Listas***\n",
    "\n",
    "Neste tutorial, vamos aprender a realizar operações básicas com listas em Python. As listas são estruturas de dados versáteis que permitem armazenar múltiplos itens em uma única variável\n",
    "\n",
    "#### **1. Criando Listas**\n",
    "\n",
    "Primeiramente, vamos criar nossas listas. Uma lista pode ser formada por qualquer tipo de dado, como strings, números, ou até mesmo outras listas. Para criar uma lista, basta usar colchetes [] e separar os itens por vírgulas."
   ]
  },
  {
   "cell_type": "code",
   "execution_count": null,
   "metadata": {},
   "outputs": [],
   "source": [
    "lista_programadores = [\"Eduardo\", \"Gustavo\", \"Pedro\",\"Cajuru\"]\n",
    "lista_linguagens = [\"Python\", \"Java\", \"C++\"]\n",
    "\n",
    "print(lista_programadores)\n",
    "print(lista_linguagens)"
   ]
  },
  {
   "cell_type": "markdown",
   "metadata": {},
   "source": [
    "#### **2. Adicionando um Item ao Final da Lista**\n",
    "\n",
    "Para adicionar novos itens ao final de uma lista, utilizamos o método .append(). Ele adiciona um item ao fim da lista, aumentando seu tamanho."
   ]
  },
  {
   "cell_type": "code",
   "execution_count": null,
   "metadata": {},
   "outputs": [],
   "source": [
    "# Adicionando um programador e uma linguagem ao final da lista\n",
    "lista_programadores.append(\"Mateus\")\n",
    "lista_linguagens.append(\"JavaScript\")\n",
    "\n",
    "print(lista_programadores)\n",
    "print(lista_linguagens)\n"
   ]
  },
  {
   "cell_type": "markdown",
   "metadata": {},
   "source": [
    "#### **3. Adicionando um Item em uma Posição Específica**\n",
    "\n",
    "Se quisermos inserir um item em uma posição específica dentro da lista, usamos o método .insert(). Este método recebe dois parâmetros: a posição (índice) onde o item deve ser inserido e o valor do item."
   ]
  },
  {
   "cell_type": "code",
   "execution_count": null,
   "metadata": {},
   "outputs": [],
   "source": [
    "# Inserindo um programador e uma linguagem em uma posição específica\n",
    "lista_programadores.insert(2, \"Julia\")\n",
    "lista_linguagens.insert(3, \"Golang\")\n",
    "\n",
    "print(lista_programadores)\n",
    "print(lista_linguagens)\n"
   ]
  },
  {
   "cell_type": "markdown",
   "metadata": {},
   "source": [
    "#### **4.Removendo um Item por Índice**\n",
    "O método .pop() remove e retorna o item da lista na posição especificada. Se não fornecermos um índice, o .pop() remove o último item da lista."
   ]
  },
  {
   "cell_type": "code",
   "execution_count": null,
   "metadata": {},
   "outputs": [],
   "source": [
    "# Adicionando mais elementos\n",
    "lista_linguagens.append(\"C#\")\n",
    "lista_programadores.append(\"Dudu\")\n",
    "\n",
    "# Removendo um item por índice\n",
    "lista_programadores.pop(3)  # Remove a posição 3 da lista\n",
    "lista_linguagens.pop()  # Remove o último item da lista\n",
    "\n",
    "print(lista_programadores)\n",
    "print(lista_linguagens)\n"
   ]
  },
  {
   "cell_type": "markdown",
   "metadata": {},
   "source": [
    "#### **5.Removendo um Item Específico**\n",
    "Se quisermos remover um item específico da lista, podemos usar o método .remove(). Este método remove a primeira ocorrência do valor informado."
   ]
  },
  {
   "cell_type": "code",
   "execution_count": null,
   "metadata": {},
   "outputs": [],
   "source": [
    "# Removendo um programador e uma linguagem\n",
    "lista_programadores.remove(\"Julia\")\n",
    "lista_linguagens.remove(\"Golang\")\n",
    "\n",
    "print(lista_programadores)\n",
    "print(lista_linguagens)"
   ]
  },
  {
   "cell_type": "markdown",
   "metadata": {},
   "source": [
    "#### **6. Acessando Elementos das Listas**\n",
    "\n",
    "Agora que aprendemos a manipular as listas, vamos ver como acessar elementos específicos dentro delas. Para isso, usamos os índices. O índice de uma lista começa em 0, ou seja, o primeiro item da lista tem o índice 0, o segundo item tem o índice 1, e assim por diante.\n"
   ]
  },
  {
   "cell_type": "code",
   "execution_count": null,
   "metadata": {},
   "outputs": [],
   "source": [
    "# Acessando um item específico nas listas\n",
    "print(lista_programadores[4])  # Acessa o quinto programador\n",
    "print(lista_linguagens[2])  # Acessa a terceira linguagem"
   ]
  },
  {
   "cell_type": "markdown",
   "metadata": {},
   "source": [
    "## ***Tuplas***\n",
    "\n",
    "São coleçoes, mas são diferentes das listas. Seus valores não podem ser alterados, enquanto o de listas é possivel.\n",
    "\n",
    "Tuplas são feitas para garantir que os dados não serão modificados acidentalmente.\n",
    "\n",
    "Ainda é possivel acessar usando o indice.\n",
    "\n",
    "~~Caso queira ver na pratica o funcionamento, poderá tirar o #~~\n",
    "\n",
    "No exemplo a seguir, vamos seguir a ideia que temos de ter o nome do produto, o valor dele e quantas unidades ou quilos, dependendo do produto, formam vendidas durante a ultima semana"
   ]
  },
  {
   "cell_type": "code",
   "execution_count": null,
   "metadata": {},
   "outputs": [],
   "source": [
    "venda_laranja = (\"laranja\", 2.50, 10)\n",
    "\n",
    "#venda_laranja[2] = 30\n",
    "\n",
    "print(venda_laranja)"
   ]
  },
  {
   "cell_type": "markdown",
   "metadata": {},
   "source": [
    "Podemos por exemplo colocar tuplas dentro de listas, quando temos de guarda muitas informações que não podem ser alteradas.\n",
    "\n",
    "Exemplo:"
   ]
  },
  {
   "cell_type": "code",
   "execution_count": null,
   "metadata": {},
   "outputs": [],
   "source": [
    "lista_de_vendas = []\n",
    "\n",
    "venda_laranja = (\"laranja\", 2.50, 10)\n",
    "venda_banana = (\"banana\", 3.50, 20)\n",
    "venda_limao = (\"limão\", 1.50, 15)\n",
    "\n",
    "lista_de_vendas.append(venda_laranja)\n",
    "lista_de_vendas.append(venda_banana)\n",
    "lista_de_vendas.append(venda_limao)\n",
    "\n",
    "\n",
    "\n",
    "print(lista_de_vendas)"
   ]
  },
  {
   "cell_type": "markdown",
   "metadata": {},
   "source": [
    "#### **Mas por que usar Tuplas?**\n",
    "\n",
    "Imagine que você está analisando as vendas de laranja nos últimos 6 meses. Você quer saber quando houve o maior volume de vendas, qual foi o valor de venda mais frequente, entre outras métricas. Esses dados representam um histórico de vendas, ou seja, informações que não devem mudar após a coleta.\n",
    "\n",
    "Neste caso, tuplas são uma escolha excelente. Por que?\n",
    "\n",
    "- Imutabilidade: Ao usar uma tupla, você garante que os dados não serão alterados acidentalmente. Isso é importante para manter a integridade dos seus dados, evitando mudanças inesperadas durante a análise.\n",
    "- Segurança: Se houver incidentes, como falhas no código ou alterações involuntárias nos dados, o uso de tuplas assegura que os dados históricos permanecem intactos, garantindo uma análise confiável.\n",
    "\n",
    "Portanto, quando você trabalha com dados que não precisam ser modificados, como históricos de vendas, tuplas oferecem uma maneira de preservar a consistência e segurança da sua análise."
   ]
  },
  {
   "cell_type": "markdown",
   "metadata": {},
   "source": [
    "## ***Dicionarios***\n",
    "\n",
    "O que você lembra quando se fala sobre dicionarios? Provalvelmente sobre um livro enorme que contem palavras e os seus significados. Do mesmo modo, dicionarios em python funcionam do mesmo jeito. Vamos ver sobre o diagrama do dicionario.\n",
    "\n",
    "<div style=\"text-align: center;\">\n",
    "  <img src=\"./assets/diagrama_dicionario.jpg\" width=\"400\" height=\"300\" />\n",
    "</div>\n",
    "\n",
    "Dicionários em Python são coleções de itens, onde cada item é composto por uma chave (key) e um valor (value). A chave é única dentro do dicionário e é usada para acessar o valor associado a ela.\n",
    "\n",
    "### **Estrutura**\n",
    "Como a estrutura em python é representada:"
   ]
  },
  {
   "cell_type": "code",
   "execution_count": null,
   "metadata": {},
   "outputs": [],
   "source": [
    "aluno1 = {\n",
    "    \"nome\": \"Gustavo\",\n",
    "    \"sobrenome\": \"Gustavo\",\n",
    "    \"idade\": 25,\n",
    "    \"cidade\": \"Xique-Xique\"\n",
    "}\n",
    "aluno2 = {\n",
    "    \"nome\": \"Ana\",\n",
    "    \"sobrenome\": None, # None é um tipo de dado que representa a ausência de valor, vazio\n",
    "    \"idade\": 20,\n",
    "    \"cidade\": \"Xique-Xique\"\n",
    "}\n"
   ]
  },
  {
   "cell_type": "markdown",
   "metadata": {},
   "source": [
    "Apos cada key, colocamos **:** para declarar qual sera o valor. Apos cada valor, caso desejemos colocar mais valores, como no exemplo, sobrenome, idade ou cidade, colocamos uma virgula. Mas note que nesse dicionario aconteceu um erro! Colocamos o mesmo valor de nome e sobrenome. Que ser humano teria o nome Gustavo Gustavo? (Sem ofença a todos os Gustavo Gustavo no mundo)\n",
    "\n",
    "#### **Adição ou Modificação  de Valores**\n",
    "Para modificarmos ou adicionarmos valores, essa é a estrutura que utilizamo:"
   ]
  },
  {
   "cell_type": "code",
   "execution_count": null,
   "metadata": {},
   "outputs": [],
   "source": [
    "aluno1[\"sobrenome\"] = \"Guimaraes\"\n",
    "aluno2[\"sobrenome\"] = \"Silva\"\n",
    "\n",
    "print(aluno1)\n",
    "print(aluno2)"
   ]
  },
  {
   "cell_type": "markdown",
   "metadata": {},
   "source": [
    "#### **Acessar um valor pelo nome da chave:**\n",
    "\n",
    "É possivel acessar um valor em um dicionario usando somente a chave. Exemplo:"
   ]
  },
  {
   "cell_type": "code",
   "execution_count": null,
   "metadata": {},
   "outputs": [],
   "source": [
    "print(f\"Nome: {aluno1[\"nome\"]}\\nIdade: {aluno1[\"idade\"]}\\n\")\n",
    "print(f\"Nome: {aluno2[\"nome\"]}\\nIdade: {aluno2[\"idade\"]}\") "
   ]
  },
  {
   "cell_type": "markdown",
   "metadata": {},
   "source": [
    "Note que chamamos os dicionarios 1 chave por vez. Por que so não chamar tudo de uma vez, como no exemplo a seguir?"
   ]
  },
  {
   "cell_type": "code",
   "execution_count": null,
   "metadata": {},
   "outputs": [],
   "source": [
    "print(f\"{aluno1[\"nome\", \"sobrenome\"]}\")"
   ]
  },
  {
   "cell_type": "markdown",
   "metadata": {},
   "source": [
    "O codigo ira gerar um erro, acessar 2 chaves ao mesmo tempo não é permitido em um dicionario.\n",
    "Em Python ao utilizar dicionarios, é necessario acessar uma chave por vez, assim como no exemplo a cima."
   ]
  }
 ],
 "metadata": {
  "kernelspec": {
   "display_name": "Python 3",
   "language": "python",
   "name": "python3"
  },
  "language_info": {
   "codemirror_mode": {
    "name": "ipython",
    "version": 3
   },
   "file_extension": ".py",
   "mimetype": "text/x-python",
   "name": "python",
   "nbconvert_exporter": "python",
   "pygments_lexer": "ipython3",
   "version": "3.13.2"
  }
 },
 "nbformat": 4,
 "nbformat_minor": 2
}
